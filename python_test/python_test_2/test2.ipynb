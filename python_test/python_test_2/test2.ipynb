{
 "cells": [
  {
   "cell_type": "code",
   "execution_count": 8,
   "outputs": [],
   "source": [
    "# important library import\n",
    "import requests\n",
    "from bs4 import BeautifulSoup\n",
    "import pandas as pd\n",
    "\n",
    "# URL for scrapping\n",
    "url = \"https://www.newegg.com/global/uk-en/blue-lenovo-ideapad-5-home-personal/p/1XV-0001-027U5\"\n",
    "\n",
    "# requesting the URL to fetch data from URL\n",
    "response = requests.get(url)\n",
    "\n",
    "# Parsing the fetch data to BeautifulSoup\n",
    "soup = BeautifulSoup(response.content, 'html.parser')"
   ],
   "metadata": {
    "collapsed": false,
    "ExecuteTime": {
     "start_time": "2023-08-03T14:08:25.644165Z",
     "end_time": "2023-08-03T14:08:26.110072Z"
    }
   }
  },
  {
   "cell_type": "code",
   "execution_count": 9,
   "outputs": [
    {
     "name": "stdout",
     "output_type": "stream",
     "text": [
      "{'product_name': 'Lenovo IdeaPad 15.6\" Notebook - Full HD - 1920 x 1080 - AMD Ryzen 7 5825U Octa-core (8 Core) 2 GHz - 8 GB RAM 512 GB SSD Win11H - Abyss Blue 82SG0004US', 'price': '£494.39', 'rating': '3.8'}\n"
     ]
    }
   ],
   "source": [
    "# creating dict to store product info information extracted from the fetch data\n",
    "product_info = {'product_name': soup.find('h1', class_='product-title').text,\n",
    "                'price': soup.find('div', class_='price-current').text,\n",
    "                'rating': soup.find('i', class_='rating')['title'].split(' ')[0]}\n",
    "# # Extracting price\n",
    "print(product_info)"
   ],
   "metadata": {
    "collapsed": false,
    "ExecuteTime": {
     "start_time": "2023-08-03T14:08:26.117053Z",
     "end_time": "2023-08-03T14:08:26.124035Z"
    }
   }
  },
  {
   "cell_type": "code",
   "execution_count": 10,
   "outputs": [],
   "source": [
    "# creating pandas dataframe\n",
    "df = pd.DataFrame({'id':[1], 'Product Name':product_info['product_name'], 'Price':product_info['price'], 'rating':product_info['rating']})"
   ],
   "metadata": {
    "collapsed": false,
    "ExecuteTime": {
     "start_time": "2023-08-03T14:08:26.131017Z",
     "end_time": "2023-08-03T14:08:26.172025Z"
    }
   }
  },
  {
   "cell_type": "code",
   "execution_count": 11,
   "outputs": [],
   "source": [
    "# removing default indexing\n",
    "df.set_index('id', inplace=True)"
   ],
   "metadata": {
    "collapsed": false,
    "ExecuteTime": {
     "start_time": "2023-08-03T14:08:26.144048Z",
     "end_time": "2023-08-03T14:08:26.194959Z"
    }
   }
  },
  {
   "cell_type": "code",
   "execution_count": 12,
   "outputs": [],
   "source": [
    "# saving dataframe to csv file\n",
    "df.to_csv('product_info.csv')"
   ],
   "metadata": {
    "collapsed": false,
    "ExecuteTime": {
     "start_time": "2023-08-03T14:08:26.160007Z",
     "end_time": "2023-08-03T14:08:26.195960Z"
    }
   }
  },
  {
   "cell_type": "code",
   "execution_count": 13,
   "outputs": [
    {
     "data": {
      "text/plain": "                                         Product Name    Price rating\nid                                                                   \n1   Lenovo IdeaPad 15.6\" Notebook - Full HD - 1920...  £494.39    3.8",
      "text/html": "<div>\n<style scoped>\n    .dataframe tbody tr th:only-of-type {\n        vertical-align: middle;\n    }\n\n    .dataframe tbody tr th {\n        vertical-align: top;\n    }\n\n    .dataframe thead th {\n        text-align: right;\n    }\n</style>\n<table border=\"1\" class=\"dataframe\">\n  <thead>\n    <tr style=\"text-align: right;\">\n      <th></th>\n      <th>Product Name</th>\n      <th>Price</th>\n      <th>rating</th>\n    </tr>\n    <tr>\n      <th>id</th>\n      <th></th>\n      <th></th>\n      <th></th>\n    </tr>\n  </thead>\n  <tbody>\n    <tr>\n      <th>1</th>\n      <td>Lenovo IdeaPad 15.6\" Notebook - Full HD - 1920...</td>\n      <td>£494.39</td>\n      <td>3.8</td>\n    </tr>\n  </tbody>\n</table>\n</div>"
     },
     "execution_count": 13,
     "metadata": {},
     "output_type": "execute_result"
    }
   ],
   "source": [
    "df"
   ],
   "metadata": {
    "collapsed": false,
    "ExecuteTime": {
     "start_time": "2023-08-03T14:08:37.998303Z",
     "end_time": "2023-08-03T14:08:38.057898Z"
    }
   }
  }
 ],
 "metadata": {
  "kernelspec": {
   "display_name": "Python 3",
   "language": "python",
   "name": "python3"
  },
  "language_info": {
   "codemirror_mode": {
    "name": "ipython",
    "version": 2
   },
   "file_extension": ".py",
   "mimetype": "text/x-python",
   "name": "python",
   "nbconvert_exporter": "python",
   "pygments_lexer": "ipython2",
   "version": "2.7.6"
  }
 },
 "nbformat": 4,
 "nbformat_minor": 0
}
