{
 "cells": [
  {
   "cell_type": "code",
   "execution_count": 4,
   "outputs": [],
   "source": [
    "# important library import\n",
    "import pandas as pd\n",
    "from datetime import datetime"
   ],
   "metadata": {
    "collapsed": false,
    "ExecuteTime": {
     "start_time": "2023-08-03T14:00:58.042823Z",
     "end_time": "2023-08-03T14:00:59.165687Z"
    }
   }
  },
  {
   "cell_type": "code",
   "execution_count": 5,
   "outputs": [],
   "source": [
    "# csv load into pandas dataframe\n",
    "df = pd.read_csv('sample.csv')"
   ],
   "metadata": {
    "collapsed": false,
    "ExecuteTime": {
     "start_time": "2023-08-03T14:00:59.167683Z",
     "end_time": "2023-08-03T14:00:59.201692Z"
    }
   }
  },
  {
   "cell_type": "code",
   "execution_count": 6,
   "outputs": [
    {
     "name": "stdout",
     "output_type": "stream",
     "text": [
      "transaction_id        int64\n",
      "product              object\n",
      "price               float64\n",
      "quantity              int64\n",
      "transaction_date     object\n",
      "dtype: object\n"
     ]
    }
   ],
   "source": [
    "# displaying datatype\n",
    "print(df.dtypes)"
   ],
   "metadata": {
    "collapsed": false,
    "ExecuteTime": {
     "start_time": "2023-08-03T14:00:59.200657Z",
     "end_time": "2023-08-03T14:00:59.211668Z"
    }
   }
  },
  {
   "cell_type": "code",
   "execution_count": 7,
   "outputs": [],
   "source": [
    "# Convert the transaction_date from string format ('dd-mm-yyyy') to a Python datetime object.\n",
    "# converting string object to python date time object\n",
    "df['transaction_date'] = [datetime.strptime(i, '%d-%m-%Y') for i in df['transaction_date']]"
   ],
   "metadata": {
    "collapsed": false,
    "ExecuteTime": {
     "start_time": "2023-08-03T14:00:59.217615Z",
     "end_time": "2023-08-03T14:00:59.257436Z"
    }
   }
  },
  {
   "cell_type": "code",
   "execution_count": 8,
   "outputs": [
    {
     "name": "stdout",
     "output_type": "stream",
     "text": [
      "transaction_id               int64\n",
      "product                     object\n",
      "price                      float64\n",
      "quantity                     int64\n",
      "transaction_date    datetime64[ns]\n",
      "dtype: object\n"
     ]
    }
   ],
   "source": [
    "# displaying datatype, and now it's showing transaction_date data type to datetime64[ns]\n",
    "print(df.dtypes)"
   ],
   "metadata": {
    "collapsed": false,
    "ExecuteTime": {
     "start_time": "2023-08-03T14:00:59.233570Z",
     "end_time": "2023-08-03T14:00:59.266412Z"
    }
   }
  },
  {
   "cell_type": "code",
   "execution_count": 9,
   "outputs": [],
   "source": [
    "# removing pandas default index\n",
    "df.set_index('transaction_id', inplace=True)"
   ],
   "metadata": {
    "collapsed": false,
    "ExecuteTime": {
     "start_time": "2023-08-03T14:00:59.247465Z",
     "end_time": "2023-08-03T14:00:59.266412Z"
    }
   }
  },
  {
   "cell_type": "code",
   "execution_count": 10,
   "outputs": [],
   "source": [
    "# Add a new column total_sales which is the product of price and quantity.\n",
    "# new column is added as total_sales\n",
    "df['total_sales'] = df['price']*df['quantity']"
   ],
   "metadata": {
    "collapsed": false,
    "ExecuteTime": {
     "start_time": "2023-08-03T14:00:59.262423Z",
     "end_time": "2023-08-03T14:00:59.275509Z"
    }
   }
  },
  {
   "cell_type": "code",
   "execution_count": 11,
   "outputs": [
    {
     "data": {
      "text/plain": "                  product  price  quantity transaction_date  total_sales\ntransaction_id                                                          \n1                   Apple   0.50        10       2023-01-01          5.0\n2                  Orange   0.75         8       2023-01-02          6.0\n3                  Banana   0.30        15       2023-01-03          4.5\n4               Pineapple   1.00         5       2023-01-04          5.0\n5                   Mango   1.50        12       2023-01-05         18.0",
      "text/html": "<div>\n<style scoped>\n    .dataframe tbody tr th:only-of-type {\n        vertical-align: middle;\n    }\n\n    .dataframe tbody tr th {\n        vertical-align: top;\n    }\n\n    .dataframe thead th {\n        text-align: right;\n    }\n</style>\n<table border=\"1\" class=\"dataframe\">\n  <thead>\n    <tr style=\"text-align: right;\">\n      <th></th>\n      <th>product</th>\n      <th>price</th>\n      <th>quantity</th>\n      <th>transaction_date</th>\n      <th>total_sales</th>\n    </tr>\n    <tr>\n      <th>transaction_id</th>\n      <th></th>\n      <th></th>\n      <th></th>\n      <th></th>\n      <th></th>\n    </tr>\n  </thead>\n  <tbody>\n    <tr>\n      <th>1</th>\n      <td>Apple</td>\n      <td>0.50</td>\n      <td>10</td>\n      <td>2023-01-01</td>\n      <td>5.0</td>\n    </tr>\n    <tr>\n      <th>2</th>\n      <td>Orange</td>\n      <td>0.75</td>\n      <td>8</td>\n      <td>2023-01-02</td>\n      <td>6.0</td>\n    </tr>\n    <tr>\n      <th>3</th>\n      <td>Banana</td>\n      <td>0.30</td>\n      <td>15</td>\n      <td>2023-01-03</td>\n      <td>4.5</td>\n    </tr>\n    <tr>\n      <th>4</th>\n      <td>Pineapple</td>\n      <td>1.00</td>\n      <td>5</td>\n      <td>2023-01-04</td>\n      <td>5.0</td>\n    </tr>\n    <tr>\n      <th>5</th>\n      <td>Mango</td>\n      <td>1.50</td>\n      <td>12</td>\n      <td>2023-01-05</td>\n      <td>18.0</td>\n    </tr>\n  </tbody>\n</table>\n</div>"
     },
     "execution_count": 11,
     "metadata": {},
     "output_type": "execute_result"
    }
   ],
   "source": [
    "df"
   ],
   "metadata": {
    "collapsed": false,
    "ExecuteTime": {
     "start_time": "2023-08-03T14:00:59.282463Z",
     "end_time": "2023-08-03T14:00:59.346697Z"
    }
   }
  },
  {
   "cell_type": "code",
   "execution_count": 12,
   "outputs": [
    {
     "data": {
      "text/plain": "                  product  price  quantity transaction_date  total_sales\ntransaction_id                                                          \n1                   Apple   0.50        10       2023-01-01          5.0\n2                  Orange   0.75         8       2023-01-02          6.0\n3                  Banana   0.30        15       2023-01-03          4.5\n4               Pineapple   1.00         5       2023-01-04          5.0\n5                   Mango   1.50        12       2023-01-05         18.0",
      "text/html": "<div>\n<style scoped>\n    .dataframe tbody tr th:only-of-type {\n        vertical-align: middle;\n    }\n\n    .dataframe tbody tr th {\n        vertical-align: top;\n    }\n\n    .dataframe thead th {\n        text-align: right;\n    }\n</style>\n<table border=\"1\" class=\"dataframe\">\n  <thead>\n    <tr style=\"text-align: right;\">\n      <th></th>\n      <th>product</th>\n      <th>price</th>\n      <th>quantity</th>\n      <th>transaction_date</th>\n      <th>total_sales</th>\n    </tr>\n    <tr>\n      <th>transaction_id</th>\n      <th></th>\n      <th></th>\n      <th></th>\n      <th></th>\n      <th></th>\n    </tr>\n  </thead>\n  <tbody>\n    <tr>\n      <th>1</th>\n      <td>Apple</td>\n      <td>0.50</td>\n      <td>10</td>\n      <td>2023-01-01</td>\n      <td>5.0</td>\n    </tr>\n    <tr>\n      <th>2</th>\n      <td>Orange</td>\n      <td>0.75</td>\n      <td>8</td>\n      <td>2023-01-02</td>\n      <td>6.0</td>\n    </tr>\n    <tr>\n      <th>3</th>\n      <td>Banana</td>\n      <td>0.30</td>\n      <td>15</td>\n      <td>2023-01-03</td>\n      <td>4.5</td>\n    </tr>\n    <tr>\n      <th>4</th>\n      <td>Pineapple</td>\n      <td>1.00</td>\n      <td>5</td>\n      <td>2023-01-04</td>\n      <td>5.0</td>\n    </tr>\n    <tr>\n      <th>5</th>\n      <td>Mango</td>\n      <td>1.50</td>\n      <td>12</td>\n      <td>2023-01-05</td>\n      <td>18.0</td>\n    </tr>\n  </tbody>\n</table>\n</div>"
     },
     "execution_count": 12,
     "metadata": {},
     "output_type": "execute_result"
    }
   ],
   "source": [
    "# Remove any rows with missing or null values.\n",
    "# remove null value\n",
    "df = df.dropna()\n",
    "df"
   ],
   "metadata": {
    "collapsed": false,
    "ExecuteTime": {
     "start_time": "2023-08-03T14:00:59.318881Z",
     "end_time": "2023-08-03T14:00:59.347696Z"
    }
   }
  },
  {
   "cell_type": "code",
   "execution_count": 13,
   "outputs": [],
   "source": [
    "# Save the cleaned data into a new CSV file named sales_cleaned.csv.\n",
    "# saving the cleaned data to new csv file\n",
    "df.to_csv('sales_cleaned.csv.')"
   ],
   "metadata": {
    "collapsed": false,
    "ExecuteTime": {
     "start_time": "2023-08-03T14:00:59.326858Z",
     "end_time": "2023-08-03T14:00:59.347696Z"
    }
   }
  },
  {
   "cell_type": "code",
   "execution_count": 25,
   "outputs": [],
   "source": [
    " # The program should include unit tests to verify that the transformations are working correctly."
   ],
   "metadata": {
    "collapsed": false,
    "ExecuteTime": {
     "start_time": "2023-08-03T14:02:42.448022Z",
     "end_time": "2023-08-03T14:02:42.465876Z"
    }
   }
  },
  {
   "cell_type": "code",
   "execution_count": 15,
   "outputs": [],
   "source": [
    "df1 = pd.read_csv('modified_sample.csv')"
   ],
   "metadata": {
    "collapsed": false,
    "ExecuteTime": {
     "start_time": "2023-08-03T14:00:59.358631Z",
     "end_time": "2023-08-03T14:00:59.397083Z"
    }
   }
  },
  {
   "cell_type": "code",
   "execution_count": 26,
   "outputs": [
    {
     "name": "stdout",
     "output_type": "stream",
     "text": [
      "product              object\n",
      "price               float64\n",
      "quantity              int64\n",
      "transaction_date     object\n",
      "total_sales         float64\n",
      "dtype: object\n"
     ]
    }
   ],
   "source": [
    "print(df1.dtypes)"
   ],
   "metadata": {
    "collapsed": false,
    "ExecuteTime": {
     "start_time": "2023-08-03T14:02:46.383114Z",
     "end_time": "2023-08-03T14:02:46.404247Z"
    }
   }
  },
  {
   "cell_type": "code",
   "execution_count": 18,
   "outputs": [],
   "source": [
    "df1.set_index('transaction_id', inplace=True)"
   ],
   "metadata": {
    "collapsed": false,
    "ExecuteTime": {
     "start_time": "2023-08-03T14:00:59.418642Z",
     "end_time": "2023-08-03T14:00:59.626067Z"
    }
   }
  },
  {
   "cell_type": "code",
   "execution_count": 28,
   "outputs": [
    {
     "data": {
      "text/plain": "                  product  price  quantity transaction_date  total_sales\ntransaction_id                                                          \n1                   Apple   0.50        10       2023-01-01          5.0\n2                  Orange   0.75         8       2023-01-02          6.0\n3                  Banana   0.30        15       2023-01-03          4.5\n4               Pineapple   1.00         5       2023-01-04          5.0\n5                   Mango   1.50        12       2023-01-05         18.0",
      "text/html": "<div>\n<style scoped>\n    .dataframe tbody tr th:only-of-type {\n        vertical-align: middle;\n    }\n\n    .dataframe tbody tr th {\n        vertical-align: top;\n    }\n\n    .dataframe thead th {\n        text-align: right;\n    }\n</style>\n<table border=\"1\" class=\"dataframe\">\n  <thead>\n    <tr style=\"text-align: right;\">\n      <th></th>\n      <th>product</th>\n      <th>price</th>\n      <th>quantity</th>\n      <th>transaction_date</th>\n      <th>total_sales</th>\n    </tr>\n    <tr>\n      <th>transaction_id</th>\n      <th></th>\n      <th></th>\n      <th></th>\n      <th></th>\n      <th></th>\n    </tr>\n  </thead>\n  <tbody>\n    <tr>\n      <th>1</th>\n      <td>Apple</td>\n      <td>0.50</td>\n      <td>10</td>\n      <td>2023-01-01</td>\n      <td>5.0</td>\n    </tr>\n    <tr>\n      <th>2</th>\n      <td>Orange</td>\n      <td>0.75</td>\n      <td>8</td>\n      <td>2023-01-02</td>\n      <td>6.0</td>\n    </tr>\n    <tr>\n      <th>3</th>\n      <td>Banana</td>\n      <td>0.30</td>\n      <td>15</td>\n      <td>2023-01-03</td>\n      <td>4.5</td>\n    </tr>\n    <tr>\n      <th>4</th>\n      <td>Pineapple</td>\n      <td>1.00</td>\n      <td>5</td>\n      <td>2023-01-04</td>\n      <td>5.0</td>\n    </tr>\n    <tr>\n      <th>5</th>\n      <td>Mango</td>\n      <td>1.50</td>\n      <td>12</td>\n      <td>2023-01-05</td>\n      <td>18.0</td>\n    </tr>\n  </tbody>\n</table>\n</div>"
     },
     "execution_count": 28,
     "metadata": {},
     "output_type": "execute_result"
    }
   ],
   "source": [
    "df1"
   ],
   "metadata": {
    "collapsed": false,
    "ExecuteTime": {
     "start_time": "2023-08-03T14:02:55.795143Z",
     "end_time": "2023-08-03T14:02:55.817086Z"
    }
   }
  }
 ],
 "metadata": {
  "kernelspec": {
   "display_name": "Python 3",
   "language": "python",
   "name": "python3"
  },
  "language_info": {
   "codemirror_mode": {
    "name": "ipython",
    "version": 2
   },
   "file_extension": ".py",
   "mimetype": "text/x-python",
   "name": "python",
   "nbconvert_exporter": "python",
   "pygments_lexer": "ipython2",
   "version": "2.7.6"
  }
 },
 "nbformat": 4,
 "nbformat_minor": 0
}
